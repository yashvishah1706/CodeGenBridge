{
 "cells": [
  {
   "cell_type": "code",
   "execution_count": 1,
   "id": "c1fa2c15",
   "metadata": {},
   "outputs": [
    {
     "ename": "ModuleNotFoundError",
     "evalue": "No module named 'main'",
     "output_type": "error",
     "traceback": [
      "\u001b[1;31m---------------------------------------------------------------------------\u001b[0m",
      "\u001b[1;31mModuleNotFoundError\u001b[0m                       Traceback (most recent call last)",
      "Cell \u001b[1;32mIn[1], line 5\u001b[0m\n\u001b[0;32m      1\u001b[0m \u001b[38;5;66;03m# Example usage in Jupyter notebook\u001b[39;00m\n\u001b[0;32m      2\u001b[0m \n\u001b[0;32m      3\u001b[0m \u001b[38;5;66;03m# Method 1: Simply import and run the file\u001b[39;00m\n\u001b[0;32m      4\u001b[0m \u001b[38;5;66;03m# This will detect Jupyter environment but won't execute anything automatically\u001b[39;00m\n\u001b[1;32m----> 5\u001b[0m \u001b[38;5;28;01mimport\u001b[39;00m\u001b[38;5;250m \u001b[39m\u001b[38;5;21;01mmain\u001b[39;00m\n\u001b[0;32m      7\u001b[0m \u001b[38;5;66;03m# Method 2: Import specific functions and use them directly\u001b[39;00m\n\u001b[0;32m      8\u001b[0m \u001b[38;5;28;01mfrom\u001b[39;00m\u001b[38;5;250m \u001b[39m\u001b[38;5;21;01mmain\u001b[39;00m\u001b[38;5;250m \u001b[39m\u001b[38;5;28;01mimport\u001b[39;00m prepare_data, train_model, evaluate_models, visualize_results, run_pipeline\n",
      "\u001b[1;31mModuleNotFoundError\u001b[0m: No module named 'main'"
     ]
    }
   ],
   "source": [
    "# Example usage in Jupyter notebook\n",
    "\n",
    "# Method 1: Simply import and run the file\n",
    "# This will detect Jupyter environment but won't execute anything automatically\n",
    "import main\n",
    "\n",
    "# Method 2: Import specific functions and use them directly\n",
    "from main import prepare_data, train_model, evaluate_models, visualize_results, run_pipeline\n",
    "\n",
    "# Example 1: Just prepare the data\n",
    "prepare_data(language=\"python\", num_examples=1000, data_dir=\"data\")\n",
    "\n",
    "# Example 2: Run the entire pipeline with custom parameters\n",
    "result = run_pipeline(\n",
    "    mode=\"all\",  # Can be \"all\", \"data\", \"train\", \"evaluate\", or \"visualize\"\n",
    "    data_dir=\"data\",\n",
    "    model_dir=\"models/finetuned-code-model\", \n",
    "    num_examples=1000,  # Reduced for faster execution\n",
    "    epochs=1,\n",
    "    batch_size=2,\n",
    "    eval_samples=5\n",
    ")\n",
    "print(result)  # Should print \"Pipeline completed successfully!\"\n",
    "\n",
    "# Example 3: Run just the evaluation step and get results back\n",
    "detailed_results, summary_results = run_pipeline(\n",
    "    mode=\"evaluate\",\n",
    "    model_dir=\"models/finetuned-code-model\",\n",
    "    data_dir=\"data\",\n",
    "    eval_samples=5\n",
    ")\n",
    "\n",
    "# Display summary results\n",
    "display(summary_results)  # Use display() for prettier output in Jupyter\n",
    "\n",
    "# To run directly in Jupyter with no output, just run:\n",
    "# !python main.py --mode all --num_examples 1000"
   ]
  },
  {
   "cell_type": "code",
   "execution_count": null,
   "id": "0b567f39",
   "metadata": {},
   "outputs": [],
   "source": []
  }
 ],
 "metadata": {
  "kernelspec": {
   "display_name": "Python (codegen-env)",
   "language": "python",
   "name": "codegen-env"
  },
  "language_info": {
   "codemirror_mode": {
    "name": "ipython",
    "version": 3
   },
   "file_extension": ".py",
   "mimetype": "text/x-python",
   "name": "python",
   "nbconvert_exporter": "python",
   "pygments_lexer": "ipython3",
   "version": "3.10.16"
  }
 },
 "nbformat": 4,
 "nbformat_minor": 5
}
